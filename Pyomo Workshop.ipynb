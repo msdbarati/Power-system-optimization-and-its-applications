{
 "cells": [
  {
   "cell_type": "markdown",
   "id": "d41daad1",
   "metadata": {},
   "source": [
    "### ![Alt](http://images.squarespace-cdn.com/content/v1/5492d7f4e4b00040889988bd/1419973085209-9127JQ4DLEDQLNVH4FKT/PyomoNewBlueDense.png?format=300w \"Pyomo\")\n",
    "\n",
    "# Pyomo Software for ECE1773 Power Systsem Operation and Control  and  ECE2781– Smart Grid Technology and Applications \n",
    "\n",
    "## Masoud Barati\n",
    "March 01, 2022\n",
    "\n",
    "github repository for workshop materials https://github.com/msdbarati/Power-system-optimization-and-its-applications"
   ]
  },
  {
   "cell_type": "markdown",
   "id": "f3dd8808",
   "metadata": {},
   "source": [
    "## How to solve a mathematical programming problem ?\n",
    "1. AML(Algebraic Modeling Language)\n",
    "    - GAMS(General Algebraic Modeling System)\n",
    "        - first AML- 1976\n",
    "        - widely accepted and used\n",
    "        - old syntax\n",
    "        - commercial\n",
    "    - AMPL(A Mathematical Programming Language)\n",
    "        - 1985 by Bob Fourer\n",
    "        - higher level syntax\n",
    "        - commercial\n",
    "    - OPL(Optimization Programming Language)\n",
    "        - uses javascript as scripting language\n",
    "        - limited to cplex solver\n",
    "        - commercial\n",
    "2. Solver API\n",
    "     - perfect compatibility\n",
    "     - learning effort for each API\n",
    "     - sometimes low-level\n",
    "3. Modeling Libraries (like Pyomo)\n",
    "     - not limited to a specific solver\n",
    "     - more modeling features compared to API\n",
    "     - integration with other algorithms and tools\n",
    "     - data manipulation and visualization\n",
    "     - no need to learn a new language"
   ]
  },
  {
   "cell_type": "markdown",
   "id": "cc8195e1",
   "metadata": {},
   "source": [
    "## What is Pyomo?\n",
    " - An open source python library for modeling mathematical programming problems\n",
    " - Linked to a wide range of commercial and free solvers\n",
    " - Developed as part of the COIN-OR(Computational Infrastructure of Operations Research) project"
   ]
  },
  {
   "cell_type": "markdown",
   "id": "44a86d4a",
   "metadata": {},
   "source": [
    "## Installing pyomo\n",
    "it is **recommended** to use virtual environments\n",
    "```console\n",
    "> python -m venv env\n",
    "> env\\Scripts\\activate\n",
    "```\n",
    "install pyomo package (from pypi)\n",
    "```console\n",
    "> pip install pyomo\n",
    "```\n",
    "check if pyomo is properly installed\n",
    "```console\n",
    "> pyomo --version\n",
    "```\n",
    "the output should be something like this\n",
    "```console\n",
    "> Pyomo 5.7 (CPython 3.8.2 on Windows 10)\n",
    "```"
   ]
  },
  {
   "cell_type": "markdown",
   "id": "0f7c7551",
   "metadata": {},
   "source": [
    "## Installing  Solvers\n",
    "\n",
    "- GLPK(GNU Linear Programming Kit)\n",
    "    - LP/MIP\n",
    "    - part of the GNU Project\n",
    "    - developed by Andrew O. Makhorin of the Moscow Aviation Institute\n",
    "    - download GLPK binaries for Windows from [glpk]\n",
    "    - extract it in an arbitrary address (glpk_path)\n",
    "    - the executable file path is {glpk_path}\\w64\\glpsol.exe\n",
    "    - stable but slow\n",
    "- CBC (COIN-OR Branch and Cut)\n",
    "    - LP/MIP\n",
    "    - part of the COIN-OR project\n",
    "    - download CBC binaries for Windows from [cbc]\n",
    "    - extract it in an arbitrary path (cbc_path)\n",
    "    - the executable file path is {cbc_path}\\bin\\cbc.exe\n",
    "- IPOPT (Interior Point Optimizer)\n",
    "    - Nonlinear programming\n",
    "    - part of the COIN-OR project\n",
    "    - download CBC binaries for Windows from [ipopt]\n",
    "    - extract it in an arbitrary path (ipopt_path)\n",
    "    - the executable file path is {ipopt_path}\\bin\\ipopt.exe\n",
    "- CPLEX (Commercial solver)\n",
    "    - LP/MIP/QP/QCP\n",
    "    - free Academic license\n",
    "    - download and install from [cplex]\n",
    "    - the executable file path is something like this\n",
    "        - C:\\Program Files\\IBM\\ILOG\\CPLEX_Enterprise_Server1210\\CPLEX_Studio\\cplex\\bin\\x64_win64\\cplex.exe\n",
    "    \n",
    "\n",
    "[glpk]: https://sourceforge.net/projects/winglpk/files/latest/download.\n",
    "[cbc]: https://github.com/coin-or/Cbc/releases\n",
    "[ipopt]: https://github.com/coin-or/Ipopt/releases\n",
    "[cplex]: https://p30download.ir/fa/entry/62101/"
   ]
  },
  {
   "cell_type": "markdown",
   "id": "673d1e2c",
   "metadata": {},
   "source": [
    "## First Model\n",
    "$$\n",
    "\\begin{align}\n",
    "min \\quad &x +y\\\\\n",
    "s.t.\\quad &x +4y <= 1\\\\\n",
    "\\quad &4x +y<= 1\\\\\n",
    "\\quad &x;y ≥ 0\n",
    "\\end{align}\n",
    "$$\n",
    "\n",
    "you can see the visualization [here]\n",
    "\n",
    "[here]: https://www.desmos.com/calculator/a70y4wlpxy"
   ]
  },
  {
   "cell_type": "code",
   "execution_count": 38,
   "id": "563504f9",
   "metadata": {},
   "outputs": [
    {
     "name": "stdout",
     "output_type": "stream",
     "text": [
      "obj : Size=1, Index=None, Active=True\n",
      "    Key  : Active : Sense    : Expression\n",
      "    None :   True : maximize : x + y\n",
      "0.25\n",
      "0.0\n",
      "x: 0.0, y: 0.25\n"
     ]
    }
   ],
   "source": [
    "## from pyomo.env import * (don't import like this, you may see this method of import in forums)\n",
    "import pyomo.environ as pyo\n",
    "\n",
    "## constructing the model object\n",
    "model = pyo.ConcreteModel()\n",
    "\n",
    "## Variables\n",
    "model.x = pyo.Var(within=pyo.NonNegativeReals)\n",
    "model.y = pyo.Var(domain=pyo.NonNegativeReals)\n",
    "model.x.domain = pyo.Integers\n",
    "## Constraints\n",
    "model.con1 = pyo.Constraint(expr=model.x + 4*model.y <= 1)\n",
    "model.con2 = pyo.Constraint(expr=4*model.x + model.y <= 1)\n",
    "\n",
    "## Objective\n",
    "# model.obj = pyo.Objective(expr=model.x + model.y)\n",
    "model.obj = pyo.Objective(expr=model.x + model.y, sense=pyo.maximize)\n",
    "\n",
    "##debugging the model\n",
    "# model.pprint()\n",
    "# model.x.pprint()\n",
    "model.obj.pprint()\n",
    "# model.con1.pprint()\n",
    "\n",
    "# solvername = 'glpk'\n",
    "# solverpath_exe = 'D:\\\\Solver\\\\winglpk-4.65\\\\glpk-4.65\\\\w64\\\\glpsol' # .exe\n",
    "\n",
    "solvername='cplex'\n",
    "solverpath_exe='C:\\\\Program Files\\\\IBM\\\\ILOG\\\\CPLEX_Enterprise_Server1210\\\\CPLEX_Studio\\\\cplex\\\\bin\\\\x64_win64\\\\cplex'\n",
    "\n",
    "## Connecting to Solver and solving the instance\n",
    "solver= pyo.SolverFactory(solvername, executable=solverpath_exe)\n",
    "\n",
    "\n",
    "results = solver.solve(model)\n",
    "# print(results)\n",
    "## retrieving optimal values\n",
    "print(pyo.value(model.obj))\n",
    "print(pyo.value(model.x))\n",
    "print(f\"x: {pyo.value(model.x)}, y: {pyo.value(model.y)}\")\n",
    "\n"
   ]
  },
  {
   "cell_type": "markdown",
   "id": "53917446",
   "metadata": {},
   "source": [
    "## Relaxing and Adding Constraints\n",
    "\n",
    "$$\n",
    "\\begin{align}\n",
    "min \\quad &x +y\\\\\n",
    "s.t.\\quad &x +4y <= 1\\\\\n",
    "\\quad &5x +4y<= 3\\\\\n",
    "\\quad &x;y ≥ 0\n",
    "\\end{align}\n",
    "$$\n"
   ]
  },
  {
   "cell_type": "code",
   "execution_count": 16,
   "id": "11814184",
   "metadata": {},
   "outputs": [
    {
     "ename": "AttributeError",
     "evalue": "'ConcreteModel' object has no attribute 'con2'",
     "output_type": "error",
     "traceback": [
      "\u001b[1;31m---------------------------------------------------------------------------\u001b[0m",
      "\u001b[1;31mAttributeError\u001b[0m                            Traceback (most recent call last)",
      "Input \u001b[1;32mIn [16]\u001b[0m, in \u001b[0;36m<module>\u001b[1;34m\u001b[0m\n\u001b[0;32m      1\u001b[0m \u001b[38;5;66;03m## deactivate constarints\u001b[39;00m\n\u001b[1;32m----> 2\u001b[0m \u001b[43mmodel\u001b[49m\u001b[38;5;241;43m.\u001b[39;49m\u001b[43mcon2\u001b[49m\u001b[38;5;241m.\u001b[39mdeactivate()\n\u001b[0;32m      3\u001b[0m solver\u001b[38;5;241m.\u001b[39msolve(model)\n\u001b[0;32m      4\u001b[0m \u001b[38;5;28mprint\u001b[39m(\u001b[38;5;124m\"\u001b[39m\u001b[38;5;124mAfter deactivating con2:\u001b[39m\u001b[38;5;124m\"\u001b[39m)\n",
      "File \u001b[1;32mc:\\users\\sina\\documents\\pythonscripts\\pyomo-workshop\\env\\lib\\site-packages\\pyomo\\core\\base\\block.py:521\u001b[0m, in \u001b[0;36m_BlockData.__getattr__\u001b[1;34m(self, val)\u001b[0m\n\u001b[0;32m    517\u001b[0m     \u001b[38;5;28;01mreturn\u001b[39;00m _component_decorator(\n\u001b[0;32m    518\u001b[0m         \u001b[38;5;28mself\u001b[39m, ModelComponentFactory\u001b[38;5;241m.\u001b[39mget_class(val))\n\u001b[0;32m    519\u001b[0m \u001b[38;5;66;03m# Since the base classes don't support getattr, we can just\u001b[39;00m\n\u001b[0;32m    520\u001b[0m \u001b[38;5;66;03m# throw the \"normal\" AttributeError\u001b[39;00m\n\u001b[1;32m--> 521\u001b[0m \u001b[38;5;28;01mraise\u001b[39;00m \u001b[38;5;167;01mAttributeError\u001b[39;00m(\u001b[38;5;124m\"\u001b[39m\u001b[38;5;124m'\u001b[39m\u001b[38;5;132;01m%s\u001b[39;00m\u001b[38;5;124m'\u001b[39m\u001b[38;5;124m object has no attribute \u001b[39m\u001b[38;5;124m'\u001b[39m\u001b[38;5;132;01m%s\u001b[39;00m\u001b[38;5;124m'\u001b[39m\u001b[38;5;124m\"\u001b[39m\n\u001b[0;32m    522\u001b[0m                      \u001b[38;5;241m%\u001b[39m (\u001b[38;5;28mself\u001b[39m\u001b[38;5;241m.\u001b[39m\u001b[38;5;18m__class__\u001b[39m\u001b[38;5;241m.\u001b[39m\u001b[38;5;18m__name__\u001b[39m, val))\n",
      "\u001b[1;31mAttributeError\u001b[0m: 'ConcreteModel' object has no attribute 'con2'"
     ]
    }
   ],
   "source": [
    "## deactivate constarints\n",
    "model.con2.deactivate()\n",
    "solver.solve(model)\n",
    "print(\"After deactivating con2:\")\n",
    "print(f\"x: {pyo.value(model.x)}, y: {pyo.value(model.y)}\")\n",
    "\n",
    "model.con3 = pyo.Constraint(expr=5*model.x + 4*model.y <= 3)\n",
    "solver.solve(model)\n",
    "print(\"After adding con3:\")\n",
    "print(f\"x: {pyo.value(model.x)}, y: {pyo.value(model.y)}\")"
   ]
  },
  {
   "cell_type": "markdown",
   "id": "9ab2effa",
   "metadata": {},
   "source": [
    "## Other Solvers"
   ]
  },
  {
   "cell_type": "code",
   "execution_count": null,
   "id": "b65b7325",
   "metadata": {},
   "outputs": [],
   "source": [
    "# solvername = 'cbc'\n",
    "# solverpath_exe = 'D:\\\\Solver\\\\Cbc-releases.2.10.7-w64-msvc15-md\\\\bin\\\\cbc'\n",
    "\n",
    "# solvername='cplex'\n",
    "# solverpath_exe='C:\\\\Program Files\\\\IBM\\\\ILOG\\\\CPLEX_Enterprise_Server1210\\\\CPLEX_Studio\\\\cplex\\\\bin\\\\x64_win64\\\\cplex'\n",
    "\n",
    "# solvername = 'ipopt'\n",
    "# solverpath_exe = 'D:\\\\Solver\\\\Ipopt-3.14.3-win64-msvs2019-md\\\\bin\\\\ipopt'"
   ]
  },
  {
   "cell_type": "markdown",
   "id": "aa70a97d",
   "metadata": {},
   "source": [
    "## Indexed Components\n",
    "warehouse location problem\n",
    "$$\n",
    "\\begin{align}\n",
    "min \\quad &\\sum_{n\\in N}\\sum_{m \\in M}d_{n,m} x_{n,m}\\\\\n",
    "s.t.\\quad &\\sum_{n \\in N} x_{n,m} =1 ,\\quad \\forall m \\in M &(1)\\\\\n",
    "\\quad &  x_{n,m} \\leq y_n, \\quad \\forall n \\in N, \\forall m \\in M &(2)\\\\\n",
    "\\quad & \\sum_{n \\in N} y_n \\leq P &(3)\\\\\n",
    "\\quad & 0\\leq x_{n,m} \\leq 1, \\quad \\forall n \\in N, \\forall m \\in M\\\\\n",
    "\\quad & y_{n} \\in \\{0,1\\}, \\quad \\forall n \\in N\\\\\n",
    "\\end{align}\n",
    "$$\n",
    "<br>\n",
    "<br>\n",
    "![Alt](./images/WLP.png \"wlp\")"
   ]
  },
  {
   "cell_type": "code",
   "execution_count": 24,
   "id": "3d4d254c",
   "metadata": {
    "scrolled": true
   },
   "outputs": [
    {
     "name": "stdout",
     "output_type": "stream",
     "text": [
      "x : Size=12, Index=x_index\n",
      "    Key                  : Lower : Value : Upper : Fixed : Stale : Domain\n",
      "      ('Ashland', 'CHI') :     0 :   1.0 :     1 : False : False :  Reals\n",
      "      ('Ashland', 'HTX') :     0 :   0.0 :     1 : False : False :  Reals\n",
      "       ('Ashland', 'LA') :     0 :   0.0 :     1 : False : False :  Reals\n",
      "      ('Ashland', 'NYC') :     0 :   1.0 :     1 : False : False :  Reals\n",
      "    ('Harlingen', 'CHI') :     0 :   0.0 :     1 : False : False :  Reals\n",
      "    ('Harlingen', 'HTX') :     0 :   1.0 :     1 : False : False :  Reals\n",
      "     ('Harlingen', 'LA') :     0 :   1.0 :     1 : False : False :  Reals\n",
      "    ('Harlingen', 'NYC') :     0 :   0.0 :     1 : False : False :  Reals\n",
      "      ('Memphis', 'CHI') :     0 :   0.0 :     1 : False : False :  Reals\n",
      "      ('Memphis', 'HTX') :     0 :   0.0 :     1 : False : False :  Reals\n",
      "       ('Memphis', 'LA') :     0 :   0.0 :     1 : False : False :  Reals\n",
      "      ('Memphis', 'NYC') :     0 :   0.0 :     1 : False : False :  Reals\n"
     ]
    }
   ],
   "source": [
    "\n",
    "N = [\"Harlingen\", \"Memphis\", \"Ashland\"]\n",
    "M = [\"NYC\", \"LA\", \"CHI\", \"HTX\"]\n",
    "P = 2\n",
    "d = {\n",
    "    'Harlingen': {\n",
    "        'NYC': 1956,\n",
    "        'LA' : 1606,\n",
    "        'CHI': 1410,\n",
    "        'HTX': 330,\n",
    "    },\n",
    "    'Memphis': {\n",
    "        'NYC': 1096,\n",
    "        'LA' : 1792,\n",
    "        'CHI': 531,\n",
    "        'HTX': 567,\n",
    "    },\n",
    "    'Ashland': {\n",
    "        'NYC': 485,\n",
    "        'LA': 2322,\n",
    "        'CHI': 324,\n",
    "        'HTX': 1236,\n",
    "    },\n",
    "}\n",
    "\n",
    "    \n",
    "model = pyo.ConcreteModel()\n",
    "\n",
    "## Variables\n",
    "model.x = pyo.Var(N, M, bounds=(0,1), within=pyo.Reals, initialize = 1)\n",
    "## alternative method for defining the x variables\n",
    "# model.x = pyo.Var(N, M, within=pyo.PercentFraction)\n",
    "\n",
    "\n",
    "initialize_dict = {\n",
    "    \"Harlingen\": 1,\n",
    "    \"Memphis\": 0,\n",
    "    \"Ashland\": 1,\n",
    "}\n",
    "model.y = pyo.Var(N, within=pyo.Binary, initialize = initialize_dict)\n",
    "# model.y = pyo.Var(N, within=[0,1])\n",
    "\n",
    "# print('x[\"Harlingen\", \"NYC\"]: ', pyo.value(model.x[\"Harlingen\", \"NYC\"]))\n",
    "# print('y[\"Harlingen\"]: ', pyo.value(model.y[\"Harlingen\"]))\n",
    "\n",
    "## Constraints\n",
    "model.num_warehouses = pyo.Constraint(expr=sum(model.y[n] for n in N) <= P)\n",
    "\n",
    "def demand_rule(model, m):\n",
    "    return sum(model.x[n,m] for n in N) == 1\n",
    "model.demand = pyo.Constraint(M, rule=demand_rule)\n",
    "\n",
    "def warehouse_active_rule(mdl, n, m):\n",
    "    return mdl.x[n,m] <= mdl.y[n]\n",
    "model.warehouse_active = pyo.Constraint(N, M, rule=warehouse_active_rule)\n",
    "\n",
    "# model.demand.pprint()\n",
    "\n",
    "# Objective\n",
    "def obj_rule(model):\n",
    "    return sum(d[n][m]*model.x[n,m] for n in N for m in M)\n",
    "model.obj = pyo.Objective(rule=obj_rule)\n",
    "\n",
    "# model.obj = pyo.Objective(rule=sum(d[n][m]*model.x[n,m] for n in N for m in M))\n",
    "\n",
    "results = solver.solve(model)\n",
    "model.x.pprint()"
   ]
  },
  {
   "cell_type": "markdown",
   "id": "b62cef1e",
   "metadata": {},
   "source": [
    "### Variables Domain\n",
    "- pyomo predefined virtual sets [here]\n",
    "- python list\n",
    "[here]: https://pyomo.readthedocs.io/en/stable/pyomo_modeling_components/Sets.html?highlight=UnitInterval#predefined-virtual-sets"
   ]
  },
  {
   "cell_type": "markdown",
   "id": "2efb62be",
   "metadata": {},
   "source": [
    "### Retrieving optimal values "
   ]
  },
  {
   "cell_type": "code",
   "execution_count": 21,
   "id": "d95c23bc",
   "metadata": {},
   "outputs": [
    {
     "name": "stdout",
     "output_type": "stream",
     "text": [
      "Harlingen  1.0\n",
      "Memphis    0.0\n",
      "Ashland    1.0\n"
     ]
    }
   ],
   "source": [
    "# variables\n",
    "for n in N:\n",
    "    print(f\"{n:10}\",pyo.value(model.y[n]))"
   ]
  },
  {
   "cell_type": "code",
   "execution_count": 22,
   "id": "72b138e5",
   "metadata": {},
   "outputs": [
    {
     "name": "stdout",
     "output_type": "stream",
     "text": [
      "objective value:  2745.0\n"
     ]
    }
   ],
   "source": [
    "# objective\n",
    "print(\"objective value: \", pyo.value(model.obj))"
   ]
  },
  {
   "cell_type": "code",
   "execution_count": 20,
   "id": "58149201",
   "metadata": {},
   "outputs": [
    {
     "name": "stdout",
     "output_type": "stream",
     "text": [
      "2.0\n",
      "0.0\n",
      "inf\n"
     ]
    }
   ],
   "source": [
    "# constraints\n",
    "print(pyo.value(model.num_warehouses.body))\n",
    "print(model.num_warehouses.uslack())\n",
    "print(model.num_warehouses.lslack())"
   ]
  },
  {
   "cell_type": "markdown",
   "id": "bdb7a7f6",
   "metadata": {},
   "source": [
    "### Termination Condition\n",
    "checking the solver status and\n",
    "full list of statuses and conditions [here]\n",
    "\n",
    "[here]: http://www.pyomo.org/blog/2015/1/8/accessing-solver \"Solver conditions\""
   ]
  },
  {
   "cell_type": "code",
   "execution_count": 21,
   "id": "2853e797",
   "metadata": {},
   "outputs": [
    {
     "name": "stdout",
     "output_type": "stream",
     "text": [
      "Termination Condition is Optimal\n"
     ]
    }
   ],
   "source": [
    "from pyomo.opt import SolverStatus, TerminationCondition\n",
    "\n",
    "if (results.solver.status == SolverStatus.ok) and (results.solver.termination_condition == TerminationCondition.optimal):\n",
    "    # Do something when the solution in optimal and feasible\n",
    "    print(\"Termination Condition is Optimal\")\n",
    "elif (results.solver.termination_condition == TerminationCondition.infeasible):\n",
    "    # Do something when model in infeasible\n",
    "    print(\"Termination Condition is Infeasible\")\n",
    "else:\n",
    "    # Something else is wrong\n",
    "    print(\"Solver Status:\" ,  results.solver.status)"
   ]
  },
  {
   "cell_type": "markdown",
   "id": "ecb1d4d7",
   "metadata": {},
   "source": [
    "## Maximum network flow\n",
    "\n",
    "warehouse location problem\n",
    "$$\n",
    "\\begin{align}\n",
    "max \\quad &x_{6,1}\\\\\n",
    "s.t.\\quad &\\sum_{(i,j) \\in A} x_{ij} - \\sum_{(k,i) \\in A} x_{ki} =0 ,\\quad \\forall i \\in N &(1)\\\\\n",
    "\\quad &  x_{ij} \\leq c_{ij}, \\quad \\forall (i,j) \\in A&(2)\\\\\n",
    "\\quad & x_{ij} \\geq 0, \\quad \\forall (i,j) \\in A&\\\\\n",
    "\\end{align}\n",
    "$$\n",
    "<br>\n",
    "<br>\n",
    "![Alt](./images/MNF.png?w=1000 \"wlp\")"
   ]
  },
  {
   "cell_type": "code",
   "execution_count": 25,
   "id": "c9935a67",
   "metadata": {},
   "outputs": [
    {
     "data": {
      "text/plain": [
       "11.0"
      ]
     },
     "execution_count": 25,
     "metadata": {},
     "output_type": "execute_result"
    }
   ],
   "source": [
    "## Sets\n",
    "N = [1,2,3,4,5,6]\n",
    "A = [(1,2),(1,4),(2,3),(4,5),(3,6),(5,6),(2,5),(4,3),(6,1)]\n",
    "c ={\n",
    "    (1,2):8,\n",
    "    (1,4):9,\n",
    "    (2,3):7,\n",
    "    (4,5):2,\n",
    "    (3,6):6,\n",
    "    (5,6):5,\n",
    "    (2,5):4,\n",
    "    (4,3):3,\n",
    "    (6,1):100, # don't use inf\n",
    "}\n",
    "\n",
    "model = pyo.ConcreteModel()\n",
    "\n",
    "## Variables\n",
    "model.x = pyo.Var(N,N,within=pyo.NonNegativeReals)\n",
    "\n",
    "## Constraints\n",
    "def capacity_rule(model,i,j):\n",
    "    if (i,j) in A:\n",
    "        return model.x[i,j] <= c[(i,j)]\n",
    "    else:\n",
    "        return pyo.Constraint.Skip\n",
    "model.capacity = pyo.Constraint(N, N, rule=capacity_rule)\n",
    "\n",
    "def equliburium_rule(model,i):\n",
    "    expr = 0\n",
    "    for j in N:\n",
    "        if (i,j) in A:\n",
    "            expr += model.x[i,j]\n",
    "    for k in N:\n",
    "        if (k,i) in A:\n",
    "            expr -= model.x[k,i]\n",
    "    return expr == 0\n",
    "model.equil = pyo.Constraint(N,rule=equliburium_rule)\n",
    "\n",
    "\n",
    "## common mistake (!) don't use assignmnet for fixiing\n",
    "## how to fix variables ?!\n",
    "for i in N:\n",
    "    for j in N:\n",
    "        if not (i,j) in A:\n",
    "            model.x[i,j].fix(0)\n",
    "\n",
    "\n",
    "## Objective\n",
    "model.obj = pyo.Objective(expr=model.x[(6,1)], sense=pyo.maximize)\n",
    "results = solver.solve(model)\n",
    "pyo.value(model.obj)\n"
   ]
  },
  {
   "cell_type": "code",
   "execution_count": 27,
   "id": "b7187171",
   "metadata": {},
   "outputs": [
    {
     "name": "stdout",
     "output_type": "stream",
     "text": [
      "11.0\n",
      "Reduced Costs\n",
      "  X variables\n",
      "       (1, 2) 0.0\n",
      "       (1, 4) 0.0\n",
      "       (2, 3) 0.0\n",
      "       (4, 5) 0.0\n",
      "       (3, 6) 0.0\n",
      "       (5, 6) 0.0\n",
      "       (2, 5) 0.0\n",
      "       (4, 3) 0.0\n",
      "       (6, 1) 0.0\n"
     ]
    }
   ],
   "source": [
    "model = pyo.ConcreteModel()\n",
    "\n",
    "## Variables\n",
    "model.x = pyo.Var(A,within=pyo.NonNegativeReals)\n",
    "\n",
    "## Constraints\n",
    "def capacity_rule(model,i,j):\n",
    "    return model.x[i,j] <= c[(i,j)]\n",
    "model.capacity = pyo.Constraint(A, rule=capacity_rule)\n",
    "\n",
    "def equliburium_rule(model,i):\n",
    "    expr = 0\n",
    "    for j in N:\n",
    "        if (i,j) in A:\n",
    "            expr += model.x[(i,j)]\n",
    "    for k in N:\n",
    "        if (k,i) in A:\n",
    "            expr -= model.x[(k,i)]\n",
    "    return expr == 0\n",
    "model.equil = pyo.Constraint(N,rule=equliburium_rule)\n",
    "\n",
    "## Objective\n",
    "model.obj = pyo.Objective(expr=model.x[6,1], sense=pyo.maximize)\n",
    "\n",
    "## Dual values\n",
    "## dual values are not captured by default, it should be signaled before optimization\n",
    "## this variables should be named exactly \"dual\" and \"rc\" \n",
    "model.dual = pyo.Suffix(direction=pyo.Suffix.IMPORT)\n",
    "model.rc = pyo.Suffix(direction=pyo.Suffix.IMPORT)\n",
    "\n",
    "\n",
    "results = solver.solve(model)\n",
    "print(pyo.value(model.obj))\n",
    "\n",
    "# print (\"Duals\")\n",
    "# print (\"  Capacity Constraint\")\n",
    "# for index in model.capacity:\n",
    "#     print (\"      \", index, model.dual[model.capacity[index]])\n",
    "# print (\"  Equiliburium Constraint\")\n",
    "# for index in model.equil:\n",
    "#     print (\"      \", index, model.dual[model.equil[index]])\n",
    "\n",
    "print (\"Reduced Costs\")\n",
    "print (\"  X variables\")\n",
    "for index in model.x:\n",
    "    print (\"      \", index, model.rc[model.x[index]])\n",
    "\n",
    "# for (i,j) in A:\n",
    "#     if pyo.value(model.x[(i,j)]) == c[i,j]:\n",
    "#         print(i,j)\n",
    "\n"
   ]
  },
  {
   "cell_type": "markdown",
   "id": "dccc0de0",
   "metadata": {},
   "source": [
    "## NEOS\n",
    "- Internet-based client-server application that provides free access to a library of optimization solvers\n",
    "- University of Wisconsin-Madison\n",
    "- limitations\n",
    "    - 3 GB RAM\n",
    "    - maximum run time of 8 hours per job\n",
    "    - output limited to 100 MB\n",
    "    - maximum of 4 threads per job"
   ]
  },
  {
   "cell_type": "code",
   "execution_count": 28,
   "id": "5596276a",
   "metadata": {},
   "outputs": [
    {
     "name": "stdout",
     "output_type": "stream",
     "text": [
      "0.4\n",
      "\n",
      "Problem: \n",
      "- Lower bound: -inf\n",
      "  Upper bound: inf\n",
      "  Number of objectives: 1\n",
      "  Number of constraints: 2\n",
      "  Number of variables: 2\n",
      "  Sense: unknown\n",
      "Solver: \n",
      "- Status: ok\n",
      "  Message: CPLEX 20.1.0.0\\x3a optimal solution; objective 0.4; 2 dual simplex iterations (1 in phase I)\n",
      "  Termination condition: optimal\n",
      "  Id: 0\n",
      "Solution: \n",
      "- number of solutions: 0\n",
      "  number of solutions displayed: 0\n",
      "\n"
     ]
    }
   ],
   "source": [
    "import os\n",
    "\n",
    "# provide an email address\n",
    "os.environ['NEOS_EMAIL'] = 'sina.hkazemi@gmail.com'\n",
    "\n",
    "# formulate optimization model\n",
    "model = pyo.ConcreteModel()\n",
    "\n",
    "## Variables\n",
    "model.x = pyo.Var(within=pyo.NonNegativeReals)\n",
    "model.y = pyo.Var(domain=pyo.NonNegativeReals)\n",
    "\n",
    "## Constraints\n",
    "model.con1 = pyo.Constraint(expr=model.x + 4*model.y <= 1 )\n",
    "model.con2 = pyo.Constraint(expr=4*model.x + model.y <= 1)\n",
    "\n",
    "## Objective\n",
    "model.obj = pyo.Objective(expr=model.x + model.y, sense=pyo.maximize)\n",
    "\n",
    "solver_manager = pyo.SolverManagerFactory('neos')\n",
    "results = solver_manager.solve(model, opt='cplex')\n",
    "print(pyo.value(model.obj))\n",
    "print(results)"
   ]
  },
  {
   "cell_type": "markdown",
   "id": "a1e1b10b",
   "metadata": {},
   "source": [
    "\n",
    "## resoucrses:\n",
    "- Pyomo Documentation [1]\n",
    "- Pyomo — Optimization Modeling in Python (Third Edition 2021) book [2]\n",
    "\n",
    "[1]: https://pyomo.readthedocs.io/en/stable/ \"Pyomo Documentation\"\n",
    "[2]: https://u1lib.org/book/11924275/1825ce \"Pyomo Book\""
   ]
  }
 ],
 "metadata": {
  "kernelspec": {
   "display_name": "Python 3 (ipykernel)",
   "language": "python",
   "name": "python3"
  },
  "language_info": {
   "codemirror_mode": {
    "name": "ipython",
    "version": 3
   },
   "file_extension": ".py",
   "mimetype": "text/x-python",
   "name": "python",
   "nbconvert_exporter": "python",
   "pygments_lexer": "ipython3",
   "version": "3.8.2"
  }
 },
 "nbformat": 4,
 "nbformat_minor": 5
}
